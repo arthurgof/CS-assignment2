{
 "cells": [
  {
   "cell_type": "code",
   "execution_count": 2,
   "metadata": {},
   "outputs": [],
   "source": [
    "import pandas as pd\n",
    "import numpy as np\n",
    "import matplotlib.pyplot as plt\n",
    "from scipy.stats import pearsonr"
   ]
  },
  {
   "cell_type": "code",
   "execution_count": 3,
   "metadata": {},
   "outputs": [
    {
     "data": {
      "text/html": [
       "<div>\n",
       "<style scoped>\n",
       "    .dataframe tbody tr th:only-of-type {\n",
       "        vertical-align: middle;\n",
       "    }\n",
       "\n",
       "    .dataframe tbody tr th {\n",
       "        vertical-align: top;\n",
       "    }\n",
       "\n",
       "    .dataframe thead th {\n",
       "        text-align: right;\n",
       "    }\n",
       "</style>\n",
       "<table border=\"1\" class=\"dataframe\">\n",
       "  <thead>\n",
       "    <tr style=\"text-align: right;\">\n",
       "      <th></th>\n",
       "      <th>observation</th>\n",
       "      <th>LSAT</th>\n",
       "      <th>GPA</th>\n",
       "    </tr>\n",
       "  </thead>\n",
       "  <tbody>\n",
       "    <tr>\n",
       "      <th>0</th>\n",
       "      <td>1</td>\n",
       "      <td>576</td>\n",
       "      <td>3.39</td>\n",
       "    </tr>\n",
       "    <tr>\n",
       "      <th>1</th>\n",
       "      <td>2</td>\n",
       "      <td>635</td>\n",
       "      <td>3.30</td>\n",
       "    </tr>\n",
       "    <tr>\n",
       "      <th>2</th>\n",
       "      <td>3</td>\n",
       "      <td>558</td>\n",
       "      <td>2.81</td>\n",
       "    </tr>\n",
       "    <tr>\n",
       "      <th>3</th>\n",
       "      <td>4</td>\n",
       "      <td>578</td>\n",
       "      <td>3.03</td>\n",
       "    </tr>\n",
       "    <tr>\n",
       "      <th>4</th>\n",
       "      <td>5</td>\n",
       "      <td>666</td>\n",
       "      <td>3.44</td>\n",
       "    </tr>\n",
       "  </tbody>\n",
       "</table>\n",
       "</div>"
      ],
      "text/plain": [
       "   observation  LSAT   GPA\n",
       "0            1   576  3.39\n",
       "1            2   635  3.30\n",
       "2            3   558  2.81\n",
       "3            4   578  3.03\n",
       "4            5   666  3.44"
      ]
     },
     "execution_count": 3,
     "metadata": {},
     "output_type": "execute_result"
    }
   ],
   "source": [
    "df = pd.read_csv('law.csv')\n",
    "df.drop(df.columns.values[0], inplace=True, axis=1)\n",
    "df.head()"
   ]
  },
  {
   "cell_type": "code",
   "execution_count": 4,
   "metadata": {},
   "outputs": [
    {
     "data": {
      "image/png": "[encoded data removed]",
      "text/plain": [
       "<Figure size 640x480 with 1 Axes>"
      ]
     },
     "metadata": {},
     "output_type": "display_data"
    }
   ],
   "source": [
    "fig = plt.figure()\n",
    "ax = fig.add_subplot(111)\n",
    "ax.set_xlim(df['LSAT'].min()-10, df['LSAT'].max()+10)\n",
    "ax.set_ylim(df['GPA'].min()-.1, df['GPA'].max()+.1)\n",
    "ax.set_xlabel('LSAT')\n",
    "ax.set_ylabel('GPA')\n",
    "for i in range(len(df)):\n",
    "    ax.annotate(df['observation'][i], (df['LSAT'][i], df['GPA'][i]))\n"
   ]
  },
  {
   "cell_type": "code",
   "execution_count": 6,
   "metadata": {},
   "outputs": [
    {
     "name": "stdout",
     "output_type": "stream",
     "text": [
      "Number of observations: 15\n",
      "Bootstrap Statistics:\n",
      "    original   bias    std. error\n",
      "t1* 0.776374 -0.000000  0.000000\n",
      "CI  (0.776374, 0.776374)\n"
     ]
    }
   ],
   "source": [
    "def corr_fn(data, index):\n",
    "    return pearsonr(data.loc[index, \"LSAT\"], data.loc[index, \"GPA\"])[0]\n",
    "\n",
    "# Perform the complete enumeration bootstrap\n",
    "n = len(df)\n",
    "print(f\"Number of observations: {n}\")\n",
    "boot_samples = [np.random.choice(df.index, n, replace=False) for _ in range(100)]\n",
    "boot_stats = [corr_fn(df, sample) for sample in boot_samples]\n",
    "\n",
    "# Compute the bootstrap statistics\n",
    "boot_mean = np.mean(boot_stats)\n",
    "boot_std = np.std(boot_stats)\n",
    "boot_bias = boot_mean - pearsonr(df[\"LSAT\"], df[\"GPA\"])[0]\n",
    "boot_ci = np.percentile(boot_stats, [2.5, 97.5])\n",
    "\n",
    "# Print the bootstrap statistics\n",
    "print(\"Bootstrap Statistics:\")\n",
    "print(f\"    original   bias    std. error\")\n",
    "print(f\"t1* {pearsonr(df['LSAT'], df['GPA'])[0]:.6f} {boot_bias:.6f}  {boot_std:.6f}\")\n",
    "print(f\"CI  ({boot_ci[0]:.6f}, {boot_ci[1]:.6f})\")"
   ]
  },
  {
   "cell_type": "code",
   "execution_count": null,
   "metadata": {},
   "outputs": [],
   "source": [
    "    "
   ]
  }
 ],
 "metadata": {
  "kernelspec": {
   "display_name": "base",
   "language": "python",
   "name": "python3"
  },
  "language_info": {
   "codemirror_mode": {
    "name": "ipython",
    "version": 3
   },
   "file_extension": ".py",
   "mimetype": "text/x-python",
   "name": "python",
   "nbconvert_exporter": "python",
   "pygments_lexer": "ipython3",
   "version": "3.9.13"
  },
  "orig_nbformat": 4
 },
 "nbformat": 4,
 "nbformat_minor": 2
}
